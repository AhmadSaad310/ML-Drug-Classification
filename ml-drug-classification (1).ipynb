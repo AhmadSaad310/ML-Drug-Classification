{
 "cells": [
  {
   "cell_type": "code",
   "execution_count": 1,
   "id": "94047af2",
   "metadata": {
    "_cell_guid": "b1076dfc-b9ad-4769-8c92-a6c4dae69d19",
    "_uuid": "8f2839f25d086af736a60e9eeb907d3b93b6e0e5",
    "execution": {
     "iopub.execute_input": "2024-09-07T22:12:12.714180Z",
     "iopub.status.busy": "2024-09-07T22:12:12.713706Z",
     "iopub.status.idle": "2024-09-07T22:12:13.193947Z",
     "shell.execute_reply": "2024-09-07T22:12:13.192594Z"
    },
    "papermill": {
     "duration": 0.498467,
     "end_time": "2024-09-07T22:12:13.196944",
     "exception": false,
     "start_time": "2024-09-07T22:12:12.698477",
     "status": "completed"
    },
    "tags": []
   },
   "outputs": [
    {
     "name": "stdout",
     "output_type": "stream",
     "text": [
      "/kaggle/input/drug-classification/drug200.csv\n"
     ]
    }
   ],
   "source": [
    "# This Python 3 environment comes with many helpful analytics libraries installed\n",
    "# It is defined by the kaggle/python Docker image: https://github.com/kaggle/docker-python\n",
    "# For example, here's several helpful packages to load\n",
    "\n",
    "import numpy as np # linear algebra\n",
    "import pandas as pd # data processing, CSV file I/O (e.g. pd.read_csv)\n",
    "\n",
    "# Input data files are available in the read-only \"../input/\" directory\n",
    "# For example, running this (by clicking run or pressing Shift+Enter) will list all files under the input directory\n",
    "\n",
    "import os\n",
    "for dirname, _, filenames in os.walk('/kaggle/input'):\n",
    "    for filename in filenames:\n",
    "        print(os.path.join(dirname, filename))\n",
    "\n",
    "# You can write up to 20GB to the current directory (/kaggle/working/) that gets preserved as output when you create a version using \"Save & Run All\" \n",
    "# You can also write temporary files to /kaggle/temp/, but they won't be saved outside of the current session"
   ]
  },
  {
   "cell_type": "markdown",
   "id": "e5d5957e",
   "metadata": {
    "papermill": {
     "duration": 0.012155,
     "end_time": "2024-09-07T22:12:13.221863",
     "exception": false,
     "start_time": "2024-09-07T22:12:13.209708",
     "status": "completed"
    },
    "tags": []
   },
   "source": [
    "## 1.Drug Classification\n",
    "- By this notebook we will useing KNeighborsClassifier and DecisionTreeClassifier to building a simple ML"
   ]
  },
  {
   "cell_type": "markdown",
   "id": "9a164f59",
   "metadata": {
    "papermill": {
     "duration": 0.012227,
     "end_time": "2024-09-07T22:12:13.246856",
     "exception": false,
     "start_time": "2024-09-07T22:12:13.234629",
     "status": "completed"
    },
    "tags": []
   },
   "source": [
    "![](https://wisdomml.in/wp-content/uploads/2023/03/drug-768x539.png)"
   ]
  },
  {
   "cell_type": "markdown",
   "id": "ae19b940",
   "metadata": {
    "papermill": {
     "duration": 0.012394,
     "end_time": "2024-09-07T22:12:13.272822",
     "exception": false,
     "start_time": "2024-09-07T22:12:13.260428",
     "status": "completed"
    },
    "tags": []
   },
   "source": [
    "## 2.About Notebook\n",
    " - As a beginner in machine learning, predicting the right drug treatment for patients offers a valuable opportunity to apply and refine various modeling techniques. This  dataset provides an excellent starting point for exploring algorithms that can accurately determine the most suitable drug for a patient based on their medical and personal attributes. By analyzing this data, we aim to assist healthcare professionals in making more informed, data-driven decisions, ultimately improving patient outcomes."
   ]
  },
  {
   "cell_type": "markdown",
   "id": "c3e6e9ac",
   "metadata": {
    "papermill": {
     "duration": 0.013669,
     "end_time": "2024-09-07T22:12:13.299534",
     "exception": false,
     "start_time": "2024-09-07T22:12:13.285865",
     "status": "completed"
    },
    "tags": []
   },
   "source": [
    "## 3.Importing the libraries\n",
    "- that librarys we need it in our notebook"
   ]
  },
  {
   "cell_type": "code",
   "execution_count": 2,
   "id": "a9878808",
   "metadata": {
    "execution": {
     "iopub.execute_input": "2024-09-07T22:12:13.327407Z",
     "iopub.status.busy": "2024-09-07T22:12:13.326806Z",
     "iopub.status.idle": "2024-09-07T22:12:15.334987Z",
     "shell.execute_reply": "2024-09-07T22:12:15.333514Z"
    },
    "papermill": {
     "duration": 2.026658,
     "end_time": "2024-09-07T22:12:15.339170",
     "exception": false,
     "start_time": "2024-09-07T22:12:13.312512",
     "status": "completed"
    },
    "tags": []
   },
   "outputs": [],
   "source": [
    "import pandas as pd\n",
    "from sklearn import tree\n",
    "import matplotlib.pyplot as plt\n",
    "from sklearn.tree import DecisionTreeClassifier\n",
    "from sklearn.preprocessing import LabelEncoder\n",
    "from sklearn.neighbors import KNeighborsClassifier\n",
    "from sklearn.model_selection import train_test_split\n",
    "from sklearn.compose import ColumnTransformer\n",
    "from sklearn.preprocessing import OneHotEncoder"
   ]
  },
  {
   "cell_type": "markdown",
   "id": "3a0f6b5d",
   "metadata": {
    "papermill": {
     "duration": 0.013643,
     "end_time": "2024-09-07T22:12:15.366109",
     "exception": false,
     "start_time": "2024-09-07T22:12:15.352466",
     "status": "completed"
    },
    "tags": []
   },
   "source": [
    "## 4.Export Our Data From CSV"
   ]
  },
  {
   "cell_type": "code",
   "execution_count": 3,
   "id": "d120eb5b",
   "metadata": {
    "execution": {
     "iopub.execute_input": "2024-09-07T22:12:15.395903Z",
     "iopub.status.busy": "2024-09-07T22:12:15.395122Z",
     "iopub.status.idle": "2024-09-07T22:12:15.450131Z",
     "shell.execute_reply": "2024-09-07T22:12:15.448243Z"
    },
    "papermill": {
     "duration": 0.073558,
     "end_time": "2024-09-07T22:12:15.453441",
     "exception": false,
     "start_time": "2024-09-07T22:12:15.379883",
     "status": "completed"
    },
    "tags": []
   },
   "outputs": [
    {
     "data": {
      "text/html": [
       "<div>\n",
       "<style scoped>\n",
       "    .dataframe tbody tr th:only-of-type {\n",
       "        vertical-align: middle;\n",
       "    }\n",
       "\n",
       "    .dataframe tbody tr th {\n",
       "        vertical-align: top;\n",
       "    }\n",
       "\n",
       "    .dataframe thead th {\n",
       "        text-align: right;\n",
       "    }\n",
       "</style>\n",
       "<table border=\"1\" class=\"dataframe\">\n",
       "  <thead>\n",
       "    <tr style=\"text-align: right;\">\n",
       "      <th></th>\n",
       "      <th>Age</th>\n",
       "      <th>Sex</th>\n",
       "      <th>BP</th>\n",
       "      <th>Cholesterol</th>\n",
       "      <th>Na_to_K</th>\n",
       "      <th>Drug</th>\n",
       "    </tr>\n",
       "  </thead>\n",
       "  <tbody>\n",
       "    <tr>\n",
       "      <th>0</th>\n",
       "      <td>23</td>\n",
       "      <td>F</td>\n",
       "      <td>HIGH</td>\n",
       "      <td>HIGH</td>\n",
       "      <td>25.355</td>\n",
       "      <td>DrugY</td>\n",
       "    </tr>\n",
       "    <tr>\n",
       "      <th>1</th>\n",
       "      <td>47</td>\n",
       "      <td>M</td>\n",
       "      <td>LOW</td>\n",
       "      <td>HIGH</td>\n",
       "      <td>13.093</td>\n",
       "      <td>drugC</td>\n",
       "    </tr>\n",
       "    <tr>\n",
       "      <th>2</th>\n",
       "      <td>47</td>\n",
       "      <td>M</td>\n",
       "      <td>LOW</td>\n",
       "      <td>HIGH</td>\n",
       "      <td>10.114</td>\n",
       "      <td>drugC</td>\n",
       "    </tr>\n",
       "    <tr>\n",
       "      <th>3</th>\n",
       "      <td>28</td>\n",
       "      <td>F</td>\n",
       "      <td>NORMAL</td>\n",
       "      <td>HIGH</td>\n",
       "      <td>7.798</td>\n",
       "      <td>drugX</td>\n",
       "    </tr>\n",
       "    <tr>\n",
       "      <th>4</th>\n",
       "      <td>61</td>\n",
       "      <td>F</td>\n",
       "      <td>LOW</td>\n",
       "      <td>HIGH</td>\n",
       "      <td>18.043</td>\n",
       "      <td>DrugY</td>\n",
       "    </tr>\n",
       "  </tbody>\n",
       "</table>\n",
       "</div>"
      ],
      "text/plain": [
       "   Age Sex      BP Cholesterol  Na_to_K   Drug\n",
       "0   23   F    HIGH        HIGH   25.355  DrugY\n",
       "1   47   M     LOW        HIGH   13.093  drugC\n",
       "2   47   M     LOW        HIGH   10.114  drugC\n",
       "3   28   F  NORMAL        HIGH    7.798  drugX\n",
       "4   61   F     LOW        HIGH   18.043  DrugY"
      ]
     },
     "execution_count": 3,
     "metadata": {},
     "output_type": "execute_result"
    }
   ],
   "source": [
    "df = pd.read_csv('/kaggle/input/drug-classification/drug200.csv')\n",
    "df.head()"
   ]
  },
  {
   "cell_type": "markdown",
   "id": "f6b2753c",
   "metadata": {
    "papermill": {
     "duration": 0.013767,
     "end_time": "2024-09-07T22:12:15.481057",
     "exception": false,
     "start_time": "2024-09-07T22:12:15.467290",
     "status": "completed"
    },
    "tags": []
   },
   "source": [
    "- If we noticed after we are exporting data we find 4 columns need to changing to numeric values: \n",
    "- The columns are ['sex','BP','Cholesterol','Drug']"
   ]
  },
  {
   "cell_type": "markdown",
   "id": "9c217476",
   "metadata": {
    "papermill": {
     "duration": 0.012763,
     "end_time": "2024-09-07T22:12:15.507016",
     "exception": false,
     "start_time": "2024-09-07T22:12:15.494253",
     "status": "completed"
    },
    "tags": []
   },
   "source": [
    "## 5.Value count to each column"
   ]
  },
  {
   "cell_type": "code",
   "execution_count": 4,
   "id": "a6ce0b6c",
   "metadata": {
    "execution": {
     "iopub.execute_input": "2024-09-07T22:12:15.534968Z",
     "iopub.status.busy": "2024-09-07T22:12:15.534494Z",
     "iopub.status.idle": "2024-09-07T22:12:15.549489Z",
     "shell.execute_reply": "2024-09-07T22:12:15.548166Z"
    },
    "papermill": {
     "duration": 0.03176,
     "end_time": "2024-09-07T22:12:15.552214",
     "exception": false,
     "start_time": "2024-09-07T22:12:15.520454",
     "status": "completed"
    },
    "tags": []
   },
   "outputs": [
    {
     "data": {
      "text/plain": [
       "Sex\n",
       "M    104\n",
       "F     96\n",
       "Name: count, dtype: int64"
      ]
     },
     "execution_count": 4,
     "metadata": {},
     "output_type": "execute_result"
    }
   ],
   "source": [
    "df['Sex'].value_counts()"
   ]
  },
  {
   "cell_type": "markdown",
   "id": "6a68a403",
   "metadata": {
    "papermill": {
     "duration": 0.013248,
     "end_time": "2024-09-07T22:12:15.579202",
     "exception": false,
     "start_time": "2024-09-07T22:12:15.565954",
     "status": "completed"
    },
    "tags": []
   },
   "source": [
    "- The column 'sex' has:\n",
    "- 104 Males\n",
    "- 96 Females\n",
    "- With the total coantty are 200 items"
   ]
  },
  {
   "cell_type": "code",
   "execution_count": 5,
   "id": "77ca2b0a",
   "metadata": {
    "execution": {
     "iopub.execute_input": "2024-09-07T22:12:15.606445Z",
     "iopub.status.busy": "2024-09-07T22:12:15.606023Z",
     "iopub.status.idle": "2024-09-07T22:12:15.616184Z",
     "shell.execute_reply": "2024-09-07T22:12:15.614889Z"
    },
    "papermill": {
     "duration": 0.02685,
     "end_time": "2024-09-07T22:12:15.618863",
     "exception": false,
     "start_time": "2024-09-07T22:12:15.592013",
     "status": "completed"
    },
    "tags": []
   },
   "outputs": [
    {
     "data": {
      "text/plain": [
       "BP\n",
       "HIGH      77\n",
       "LOW       64\n",
       "NORMAL    59\n",
       "Name: count, dtype: int64"
      ]
     },
     "execution_count": 5,
     "metadata": {},
     "output_type": "execute_result"
    }
   ],
   "source": [
    "df['BP'].value_counts()"
   ]
  },
  {
   "cell_type": "markdown",
   "id": "04d3fb05",
   "metadata": {
    "papermill": {
     "duration": 0.012508,
     "end_time": "2024-09-07T22:12:15.644529",
     "exception": false,
     "start_time": "2024-09-07T22:12:15.632021",
     "status": "completed"
    },
    "tags": []
   },
   "source": [
    "- The column 'BP' has :\n",
    "- 77 High\n",
    "- 64 Low\n",
    "- 59 Normal\n",
    "- With the total coantty are 200 items"
   ]
  },
  {
   "cell_type": "code",
   "execution_count": 6,
   "id": "da2e3e61",
   "metadata": {
    "execution": {
     "iopub.execute_input": "2024-09-07T22:12:15.673750Z",
     "iopub.status.busy": "2024-09-07T22:12:15.673257Z",
     "iopub.status.idle": "2024-09-07T22:12:15.683065Z",
     "shell.execute_reply": "2024-09-07T22:12:15.681869Z"
    },
    "papermill": {
     "duration": 0.026707,
     "end_time": "2024-09-07T22:12:15.685619",
     "exception": false,
     "start_time": "2024-09-07T22:12:15.658912",
     "status": "completed"
    },
    "tags": []
   },
   "outputs": [
    {
     "data": {
      "text/plain": [
       "Cholesterol\n",
       "HIGH      103\n",
       "NORMAL     97\n",
       "Name: count, dtype: int64"
      ]
     },
     "execution_count": 6,
     "metadata": {},
     "output_type": "execute_result"
    }
   ],
   "source": [
    "df['Cholesterol'].value_counts()"
   ]
  },
  {
   "cell_type": "markdown",
   "id": "7fbad2ec",
   "metadata": {
    "papermill": {
     "duration": 0.012853,
     "end_time": "2024-09-07T22:12:15.711604",
     "exception": false,
     "start_time": "2024-09-07T22:12:15.698751",
     "status": "completed"
    },
    "tags": []
   },
   "source": [
    "- The column 'Cholestrol' has :\n",
    "- 103 High\n",
    "- 97 Normal\n",
    "- with the total coantty are 200 items"
   ]
  },
  {
   "cell_type": "code",
   "execution_count": 7,
   "id": "4011502f",
   "metadata": {
    "execution": {
     "iopub.execute_input": "2024-09-07T22:12:15.740230Z",
     "iopub.status.busy": "2024-09-07T22:12:15.739762Z",
     "iopub.status.idle": "2024-09-07T22:12:15.750103Z",
     "shell.execute_reply": "2024-09-07T22:12:15.748882Z"
    },
    "papermill": {
     "duration": 0.027851,
     "end_time": "2024-09-07T22:12:15.752800",
     "exception": false,
     "start_time": "2024-09-07T22:12:15.724949",
     "status": "completed"
    },
    "tags": []
   },
   "outputs": [
    {
     "data": {
      "text/plain": [
       "Drug\n",
       "DrugY    91\n",
       "drugX    54\n",
       "drugA    23\n",
       "drugC    16\n",
       "drugB    16\n",
       "Name: count, dtype: int64"
      ]
     },
     "execution_count": 7,
     "metadata": {},
     "output_type": "execute_result"
    }
   ],
   "source": [
    "df['Drug'].value_counts()"
   ]
  },
  {
   "cell_type": "markdown",
   "id": "f10c0d9a",
   "metadata": {
    "papermill": {
     "duration": 0.013634,
     "end_time": "2024-09-07T22:12:15.780506",
     "exception": false,
     "start_time": "2024-09-07T22:12:15.766872",
     "status": "completed"
    },
    "tags": []
   },
   "source": [
    "- The column 'Drug' has :\n",
    "- 23 drugA\n",
    "- 16 drugB\n",
    "- 16 drugC\n",
    "- 54 drugX\n",
    "- 91 DrugY\n",
    "- With the total coantty are 200 items"
   ]
  },
  {
   "cell_type": "markdown",
   "id": "27c6f884",
   "metadata": {
    "papermill": {
     "duration": 0.013443,
     "end_time": "2024-09-07T22:12:15.807364",
     "exception": false,
     "start_time": "2024-09-07T22:12:15.793921",
     "status": "completed"
    },
    "tags": []
   },
   "source": [
    "## 6.Convert columns to the numeric values"
   ]
  },
  {
   "cell_type": "code",
   "execution_count": 8,
   "id": "7266300d",
   "metadata": {
    "execution": {
     "iopub.execute_input": "2024-09-07T22:12:15.838753Z",
     "iopub.status.busy": "2024-09-07T22:12:15.838273Z",
     "iopub.status.idle": "2024-09-07T22:12:15.858169Z",
     "shell.execute_reply": "2024-09-07T22:12:15.856585Z"
    },
    "papermill": {
     "duration": 0.039867,
     "end_time": "2024-09-07T22:12:15.861353",
     "exception": false,
     "start_time": "2024-09-07T22:12:15.821486",
     "status": "completed"
    },
    "tags": []
   },
   "outputs": [],
   "source": [
    "df = pd.get_dummies(df,columns = ['Sex'],drop_first=True)"
   ]
  },
  {
   "cell_type": "code",
   "execution_count": 9,
   "id": "e49bfa7b",
   "metadata": {
    "execution": {
     "iopub.execute_input": "2024-09-07T22:12:15.892735Z",
     "iopub.status.busy": "2024-09-07T22:12:15.892261Z",
     "iopub.status.idle": "2024-09-07T22:12:15.902671Z",
     "shell.execute_reply": "2024-09-07T22:12:15.901365Z"
    },
    "papermill": {
     "duration": 0.028637,
     "end_time": "2024-09-07T22:12:15.905573",
     "exception": false,
     "start_time": "2024-09-07T22:12:15.876936",
     "status": "completed"
    },
    "tags": []
   },
   "outputs": [],
   "source": [
    "df = pd.get_dummies(df,columns=['BP'],drop_first=True)"
   ]
  },
  {
   "cell_type": "code",
   "execution_count": 10,
   "id": "6f2e7969",
   "metadata": {
    "execution": {
     "iopub.execute_input": "2024-09-07T22:12:15.934059Z",
     "iopub.status.busy": "2024-09-07T22:12:15.933598Z",
     "iopub.status.idle": "2024-09-07T22:12:15.944537Z",
     "shell.execute_reply": "2024-09-07T22:12:15.943335Z"
    },
    "papermill": {
     "duration": 0.028456,
     "end_time": "2024-09-07T22:12:15.947325",
     "exception": false,
     "start_time": "2024-09-07T22:12:15.918869",
     "status": "completed"
    },
    "tags": []
   },
   "outputs": [],
   "source": [
    "df = pd.get_dummies(df,columns=['Cholesterol'],drop_first=True)\n"
   ]
  },
  {
   "cell_type": "code",
   "execution_count": 11,
   "id": "3f1b8da7",
   "metadata": {
    "execution": {
     "iopub.execute_input": "2024-09-07T22:12:15.977469Z",
     "iopub.status.busy": "2024-09-07T22:12:15.977004Z",
     "iopub.status.idle": "2024-09-07T22:12:15.985609Z",
     "shell.execute_reply": "2024-09-07T22:12:15.984317Z"
    },
    "papermill": {
     "duration": 0.026212,
     "end_time": "2024-09-07T22:12:15.988340",
     "exception": false,
     "start_time": "2024-09-07T22:12:15.962128",
     "status": "completed"
    },
    "tags": []
   },
   "outputs": [],
   "source": [
    "label_mapping = {\n",
    "    'drugA': 0,\n",
    "    'drugB': 1,\n",
    "    'drugC': 2,\n",
    "    'drugX': 3,\n",
    "    'DrugY': 4,\n",
    "}\n",
    "# Map the labels to their respective categories\n",
    "df['label_Drug'] = df['Drug'].map(label_mapping)"
   ]
  },
  {
   "cell_type": "markdown",
   "id": "4515f5c2",
   "metadata": {
    "papermill": {
     "duration": 0.012704,
     "end_time": "2024-09-07T22:12:16.014311",
     "exception": false,
     "start_time": "2024-09-07T22:12:16.001607",
     "status": "completed"
    },
    "tags": []
   },
   "source": [
    "## 7.Select values ti X and Y"
   ]
  },
  {
   "cell_type": "code",
   "execution_count": 12,
   "id": "a2955775",
   "metadata": {
    "execution": {
     "iopub.execute_input": "2024-09-07T22:12:16.043279Z",
     "iopub.status.busy": "2024-09-07T22:12:16.042831Z",
     "iopub.status.idle": "2024-09-07T22:12:16.050420Z",
     "shell.execute_reply": "2024-09-07T22:12:16.049159Z"
    },
    "papermill": {
     "duration": 0.024868,
     "end_time": "2024-09-07T22:12:16.053070",
     "exception": false,
     "start_time": "2024-09-07T22:12:16.028202",
     "status": "completed"
    },
    "tags": []
   },
   "outputs": [],
   "source": [
    "x = df[['Age','Na_to_K','Sex_M','BP_LOW','BP_NORMAL','Cholesterol_NORMAL']]\n",
    "y = df['label_Drug']\n"
   ]
  },
  {
   "cell_type": "markdown",
   "id": "4a8399c3",
   "metadata": {
    "papermill": {
     "duration": 0.01277,
     "end_time": "2024-09-07T22:12:16.080038",
     "exception": false,
     "start_time": "2024-09-07T22:12:16.067268",
     "status": "completed"
    },
    "tags": []
   },
   "source": [
    "## 8.Silpte values to values testing and training"
   ]
  },
  {
   "cell_type": "code",
   "execution_count": 13,
   "id": "cd8fb316",
   "metadata": {
    "execution": {
     "iopub.execute_input": "2024-09-07T22:12:16.108466Z",
     "iopub.status.busy": "2024-09-07T22:12:16.107988Z",
     "iopub.status.idle": "2024-09-07T22:12:16.118396Z",
     "shell.execute_reply": "2024-09-07T22:12:16.116933Z"
    },
    "papermill": {
     "duration": 0.027761,
     "end_time": "2024-09-07T22:12:16.121139",
     "exception": false,
     "start_time": "2024-09-07T22:12:16.093378",
     "status": "completed"
    },
    "tags": []
   },
   "outputs": [],
   "source": [
    "X_train , X_test , y_train , y_test = train_test_split(x,y,test_size=.20)"
   ]
  },
  {
   "cell_type": "markdown",
   "id": "dee1ba47",
   "metadata": {
    "papermill": {
     "duration": 0.012874,
     "end_time": "2024-09-07T22:12:16.147341",
     "exception": false,
     "start_time": "2024-09-07T22:12:16.134467",
     "status": "completed"
    },
    "tags": []
   },
   "source": [
    "## 9.Bilduing the model 'KNeighborsClassifier'"
   ]
  },
  {
   "cell_type": "code",
   "execution_count": 14,
   "id": "ee3b14a7",
   "metadata": {
    "execution": {
     "iopub.execute_input": "2024-09-07T22:12:16.176825Z",
     "iopub.status.busy": "2024-09-07T22:12:16.175694Z",
     "iopub.status.idle": "2024-09-07T22:12:16.190586Z",
     "shell.execute_reply": "2024-09-07T22:12:16.189399Z"
    },
    "papermill": {
     "duration": 0.032826,
     "end_time": "2024-09-07T22:12:16.193571",
     "exception": false,
     "start_time": "2024-09-07T22:12:16.160745",
     "status": "completed"
    },
    "tags": []
   },
   "outputs": [
    {
     "data": {
      "text/html": [
       "<style>#sk-container-id-1 {color: black;background-color: white;}#sk-container-id-1 pre{padding: 0;}#sk-container-id-1 div.sk-toggleable {background-color: white;}#sk-container-id-1 label.sk-toggleable__label {cursor: pointer;display: block;width: 100%;margin-bottom: 0;padding: 0.3em;box-sizing: border-box;text-align: center;}#sk-container-id-1 label.sk-toggleable__label-arrow:before {content: \"▸\";float: left;margin-right: 0.25em;color: #696969;}#sk-container-id-1 label.sk-toggleable__label-arrow:hover:before {color: black;}#sk-container-id-1 div.sk-estimator:hover label.sk-toggleable__label-arrow:before {color: black;}#sk-container-id-1 div.sk-toggleable__content {max-height: 0;max-width: 0;overflow: hidden;text-align: left;background-color: #f0f8ff;}#sk-container-id-1 div.sk-toggleable__content pre {margin: 0.2em;color: black;border-radius: 0.25em;background-color: #f0f8ff;}#sk-container-id-1 input.sk-toggleable__control:checked~div.sk-toggleable__content {max-height: 200px;max-width: 100%;overflow: auto;}#sk-container-id-1 input.sk-toggleable__control:checked~label.sk-toggleable__label-arrow:before {content: \"▾\";}#sk-container-id-1 div.sk-estimator input.sk-toggleable__control:checked~label.sk-toggleable__label {background-color: #d4ebff;}#sk-container-id-1 div.sk-label input.sk-toggleable__control:checked~label.sk-toggleable__label {background-color: #d4ebff;}#sk-container-id-1 input.sk-hidden--visually {border: 0;clip: rect(1px 1px 1px 1px);clip: rect(1px, 1px, 1px, 1px);height: 1px;margin: -1px;overflow: hidden;padding: 0;position: absolute;width: 1px;}#sk-container-id-1 div.sk-estimator {font-family: monospace;background-color: #f0f8ff;border: 1px dotted black;border-radius: 0.25em;box-sizing: border-box;margin-bottom: 0.5em;}#sk-container-id-1 div.sk-estimator:hover {background-color: #d4ebff;}#sk-container-id-1 div.sk-parallel-item::after {content: \"\";width: 100%;border-bottom: 1px solid gray;flex-grow: 1;}#sk-container-id-1 div.sk-label:hover label.sk-toggleable__label {background-color: #d4ebff;}#sk-container-id-1 div.sk-serial::before {content: \"\";position: absolute;border-left: 1px solid gray;box-sizing: border-box;top: 0;bottom: 0;left: 50%;z-index: 0;}#sk-container-id-1 div.sk-serial {display: flex;flex-direction: column;align-items: center;background-color: white;padding-right: 0.2em;padding-left: 0.2em;position: relative;}#sk-container-id-1 div.sk-item {position: relative;z-index: 1;}#sk-container-id-1 div.sk-parallel {display: flex;align-items: stretch;justify-content: center;background-color: white;position: relative;}#sk-container-id-1 div.sk-item::before, #sk-container-id-1 div.sk-parallel-item::before {content: \"\";position: absolute;border-left: 1px solid gray;box-sizing: border-box;top: 0;bottom: 0;left: 50%;z-index: -1;}#sk-container-id-1 div.sk-parallel-item {display: flex;flex-direction: column;z-index: 1;position: relative;background-color: white;}#sk-container-id-1 div.sk-parallel-item:first-child::after {align-self: flex-end;width: 50%;}#sk-container-id-1 div.sk-parallel-item:last-child::after {align-self: flex-start;width: 50%;}#sk-container-id-1 div.sk-parallel-item:only-child::after {width: 0;}#sk-container-id-1 div.sk-dashed-wrapped {border: 1px dashed gray;margin: 0 0.4em 0.5em 0.4em;box-sizing: border-box;padding-bottom: 0.4em;background-color: white;}#sk-container-id-1 div.sk-label label {font-family: monospace;font-weight: bold;display: inline-block;line-height: 1.2em;}#sk-container-id-1 div.sk-label-container {text-align: center;}#sk-container-id-1 div.sk-container {/* jupyter's `normalize.less` sets `[hidden] { display: none; }` but bootstrap.min.css set `[hidden] { display: none !important; }` so we also need the `!important` here to be able to override the default hidden behavior on the sphinx rendered scikit-learn.org. See: https://github.com/scikit-learn/scikit-learn/issues/21755 */display: inline-block !important;position: relative;}#sk-container-id-1 div.sk-text-repr-fallback {display: none;}</style><div id=\"sk-container-id-1\" class=\"sk-top-container\"><div class=\"sk-text-repr-fallback\"><pre>KNeighborsClassifier()</pre><b>In a Jupyter environment, please rerun this cell to show the HTML representation or trust the notebook. <br />On GitHub, the HTML representation is unable to render, please try loading this page with nbviewer.org.</b></div><div class=\"sk-container\" hidden><div class=\"sk-item\"><div class=\"sk-estimator sk-toggleable\"><input class=\"sk-toggleable__control sk-hidden--visually\" id=\"sk-estimator-id-1\" type=\"checkbox\" checked><label for=\"sk-estimator-id-1\" class=\"sk-toggleable__label sk-toggleable__label-arrow\">KNeighborsClassifier</label><div class=\"sk-toggleable__content\"><pre>KNeighborsClassifier()</pre></div></div></div></div></div>"
      ],
      "text/plain": [
       "KNeighborsClassifier()"
      ]
     },
     "execution_count": 14,
     "metadata": {},
     "output_type": "execute_result"
    }
   ],
   "source": [
    "model = KNeighborsClassifier(n_neighbors=5)\n",
    "model.fit(X_train , y_train)"
   ]
  },
  {
   "cell_type": "markdown",
   "id": "b8043ae7",
   "metadata": {
    "papermill": {
     "duration": 0.013316,
     "end_time": "2024-09-07T22:12:16.220521",
     "exception": false,
     "start_time": "2024-09-07T22:12:16.207205",
     "status": "completed"
    },
    "tags": []
   },
   "source": [
    "## 10.Predict the model "
   ]
  },
  {
   "cell_type": "code",
   "execution_count": 15,
   "id": "c8e039a0",
   "metadata": {
    "execution": {
     "iopub.execute_input": "2024-09-07T22:12:16.249283Z",
     "iopub.status.busy": "2024-09-07T22:12:16.248842Z",
     "iopub.status.idle": "2024-09-07T22:12:16.264080Z",
     "shell.execute_reply": "2024-09-07T22:12:16.262918Z"
    },
    "papermill": {
     "duration": 0.032654,
     "end_time": "2024-09-07T22:12:16.266735",
     "exception": false,
     "start_time": "2024-09-07T22:12:16.234081",
     "status": "completed"
    },
    "tags": []
   },
   "outputs": [
    {
     "data": {
      "text/plain": [
       "array([1, 3, 2, 4, 4, 1, 0, 4, 0, 4, 0, 3, 1, 2, 1, 4, 4, 3, 3, 1, 4, 4,\n",
       "       4, 4, 4, 3, 3, 4, 4, 0, 0, 4, 4, 3, 4, 3, 4, 4, 3, 4])"
      ]
     },
     "execution_count": 15,
     "metadata": {},
     "output_type": "execute_result"
    }
   ],
   "source": [
    "y_pred = model.predict(X_test)\n",
    "y_pred"
   ]
  },
  {
   "cell_type": "markdown",
   "id": "ddf50ae7",
   "metadata": {
    "papermill": {
     "duration": 0.014227,
     "end_time": "2024-09-07T22:12:16.294655",
     "exception": false,
     "start_time": "2024-09-07T22:12:16.280428",
     "status": "completed"
    },
    "tags": []
   },
   "source": [
    "## 11.Check accuracy model"
   ]
  },
  {
   "cell_type": "code",
   "execution_count": 16,
   "id": "79d1f641",
   "metadata": {
    "execution": {
     "iopub.execute_input": "2024-09-07T22:12:16.324604Z",
     "iopub.status.busy": "2024-09-07T22:12:16.324048Z",
     "iopub.status.idle": "2024-09-07T22:12:16.334943Z",
     "shell.execute_reply": "2024-09-07T22:12:16.333551Z"
    },
    "papermill": {
     "duration": 0.028948,
     "end_time": "2024-09-07T22:12:16.337602",
     "exception": false,
     "start_time": "2024-09-07T22:12:16.308654",
     "status": "completed"
    },
    "tags": []
   },
   "outputs": [
    {
     "data": {
      "text/plain": [
       "0.6"
      ]
     },
     "execution_count": 16,
     "metadata": {},
     "output_type": "execute_result"
    }
   ],
   "source": [
    "from sklearn.metrics import accuracy_score\n",
    "accuracy_score(y_test , y_pred)"
   ]
  },
  {
   "cell_type": "markdown",
   "id": "aa09c1fb",
   "metadata": {
    "papermill": {
     "duration": 0.013885,
     "end_time": "2024-09-07T22:12:16.365499",
     "exception": false,
     "start_time": "2024-09-07T22:12:16.351614",
     "status": "completed"
    },
    "tags": []
   },
   "source": [
    "## 12.Find the best value of K(the number of neighbors)"
   ]
  },
  {
   "cell_type": "code",
   "execution_count": 17,
   "id": "78df755e",
   "metadata": {
    "execution": {
     "iopub.execute_input": "2024-09-07T22:12:16.395331Z",
     "iopub.status.busy": "2024-09-07T22:12:16.394858Z",
     "iopub.status.idle": "2024-09-07T22:12:16.445328Z",
     "shell.execute_reply": "2024-09-07T22:12:16.444055Z"
    },
    "papermill": {
     "duration": 0.068521,
     "end_time": "2024-09-07T22:12:16.448000",
     "exception": false,
     "start_time": "2024-09-07T22:12:16.379479",
     "status": "completed"
    },
    "tags": []
   },
   "outputs": [
    {
     "name": "stdout",
     "output_type": "stream",
     "text": [
      "The best k value is: 3\n"
     ]
    }
   ],
   "source": [
    "# Define the range of k values to test\n",
    "k_values = range(3,10,2)\n",
    "test_accuracies = []\n",
    "\n",
    "# Train the k-NN classifier with different values of k and evaluate on the test set\n",
    "for k in k_values:\n",
    "    knn = KNeighborsClassifier(n_neighbors=k)\n",
    "    knn.fit(X_train, y_train)  # Train the model\n",
    "    y_pred = knn.predict(X_test)  # Predict on the test set\n",
    "    accuracy = accuracy_score(y_test, y_pred)  # Calculate accuracy\n",
    "    test_accuracies.append(accuracy)\n",
    "\n",
    "# Determine the best k\n",
    "best_k = k_values[np.argmax(test_accuracies)]\n",
    "print(f\"The best k value is: {best_k}\")"
   ]
  },
  {
   "cell_type": "markdown",
   "id": "4d3ca709",
   "metadata": {
    "papermill": {
     "duration": 0.013595,
     "end_time": "2024-09-07T22:12:16.475769",
     "exception": false,
     "start_time": "2024-09-07T22:12:16.462174",
     "status": "completed"
    },
    "tags": []
   },
   "source": [
    "## 13.Viualize K"
   ]
  },
  {
   "cell_type": "code",
   "execution_count": 18,
   "id": "c88d6713",
   "metadata": {
    "execution": {
     "iopub.execute_input": "2024-09-07T22:12:16.505767Z",
     "iopub.status.busy": "2024-09-07T22:12:16.505289Z",
     "iopub.status.idle": "2024-09-07T22:12:16.823121Z",
     "shell.execute_reply": "2024-09-07T22:12:16.821853Z"
    },
    "papermill": {
     "duration": 0.33621,
     "end_time": "2024-09-07T22:12:16.826033",
     "exception": false,
     "start_time": "2024-09-07T22:12:16.489823",
     "status": "completed"
    },
    "tags": []
   },
   "outputs": [
    {
     "data": {
      "image/png": "[encoded data removed]",
      "text/plain": [
       "<Figure size 1000x600 with 1 Axes>"
      ]
     },
     "metadata": {},
     "output_type": "display_data"
    }
   ],
   "source": [
    "# Plot the k values vs. accuracy on the test set\n",
    "plt.figure(figsize=(10, 6))\n",
    "plt.plot(k_values, test_accuracies, marker='o')\n",
    "plt.xlabel('k')\n",
    "plt.ylabel('Test Set Accuracy')\n",
    "plt.title('k-NN Varying k Value')\n",
    "plt.show()"
   ]
  },
  {
   "cell_type": "markdown",
   "id": "e38ad536",
   "metadata": {
    "papermill": {
     "duration": 0.01427,
     "end_time": "2024-09-07T22:12:16.855353",
     "exception": false,
     "start_time": "2024-09-07T22:12:16.841083",
     "status": "completed"
    },
    "tags": []
   },
   "source": [
    "## 14.Bilduing the model 'DecisionTreeClassifier'"
   ]
  },
  {
   "cell_type": "code",
   "execution_count": 19,
   "id": "18b8e00f",
   "metadata": {
    "execution": {
     "iopub.execute_input": "2024-09-07T22:12:16.886443Z",
     "iopub.status.busy": "2024-09-07T22:12:16.886014Z",
     "iopub.status.idle": "2024-09-07T22:12:16.902368Z",
     "shell.execute_reply": "2024-09-07T22:12:16.901023Z"
    },
    "papermill": {
     "duration": 0.035451,
     "end_time": "2024-09-07T22:12:16.905402",
     "exception": false,
     "start_time": "2024-09-07T22:12:16.869951",
     "status": "completed"
    },
    "tags": []
   },
   "outputs": [
    {
     "data": {
      "text/html": [
       "<style>#sk-container-id-2 {color: black;background-color: white;}#sk-container-id-2 pre{padding: 0;}#sk-container-id-2 div.sk-toggleable {background-color: white;}#sk-container-id-2 label.sk-toggleable__label {cursor: pointer;display: block;width: 100%;margin-bottom: 0;padding: 0.3em;box-sizing: border-box;text-align: center;}#sk-container-id-2 label.sk-toggleable__label-arrow:before {content: \"▸\";float: left;margin-right: 0.25em;color: #696969;}#sk-container-id-2 label.sk-toggleable__label-arrow:hover:before {color: black;}#sk-container-id-2 div.sk-estimator:hover label.sk-toggleable__label-arrow:before {color: black;}#sk-container-id-2 div.sk-toggleable__content {max-height: 0;max-width: 0;overflow: hidden;text-align: left;background-color: #f0f8ff;}#sk-container-id-2 div.sk-toggleable__content pre {margin: 0.2em;color: black;border-radius: 0.25em;background-color: #f0f8ff;}#sk-container-id-2 input.sk-toggleable__control:checked~div.sk-toggleable__content {max-height: 200px;max-width: 100%;overflow: auto;}#sk-container-id-2 input.sk-toggleable__control:checked~label.sk-toggleable__label-arrow:before {content: \"▾\";}#sk-container-id-2 div.sk-estimator input.sk-toggleable__control:checked~label.sk-toggleable__label {background-color: #d4ebff;}#sk-container-id-2 div.sk-label input.sk-toggleable__control:checked~label.sk-toggleable__label {background-color: #d4ebff;}#sk-container-id-2 input.sk-hidden--visually {border: 0;clip: rect(1px 1px 1px 1px);clip: rect(1px, 1px, 1px, 1px);height: 1px;margin: -1px;overflow: hidden;padding: 0;position: absolute;width: 1px;}#sk-container-id-2 div.sk-estimator {font-family: monospace;background-color: #f0f8ff;border: 1px dotted black;border-radius: 0.25em;box-sizing: border-box;margin-bottom: 0.5em;}#sk-container-id-2 div.sk-estimator:hover {background-color: #d4ebff;}#sk-container-id-2 div.sk-parallel-item::after {content: \"\";width: 100%;border-bottom: 1px solid gray;flex-grow: 1;}#sk-container-id-2 div.sk-label:hover label.sk-toggleable__label {background-color: #d4ebff;}#sk-container-id-2 div.sk-serial::before {content: \"\";position: absolute;border-left: 1px solid gray;box-sizing: border-box;top: 0;bottom: 0;left: 50%;z-index: 0;}#sk-container-id-2 div.sk-serial {display: flex;flex-direction: column;align-items: center;background-color: white;padding-right: 0.2em;padding-left: 0.2em;position: relative;}#sk-container-id-2 div.sk-item {position: relative;z-index: 1;}#sk-container-id-2 div.sk-parallel {display: flex;align-items: stretch;justify-content: center;background-color: white;position: relative;}#sk-container-id-2 div.sk-item::before, #sk-container-id-2 div.sk-parallel-item::before {content: \"\";position: absolute;border-left: 1px solid gray;box-sizing: border-box;top: 0;bottom: 0;left: 50%;z-index: -1;}#sk-container-id-2 div.sk-parallel-item {display: flex;flex-direction: column;z-index: 1;position: relative;background-color: white;}#sk-container-id-2 div.sk-parallel-item:first-child::after {align-self: flex-end;width: 50%;}#sk-container-id-2 div.sk-parallel-item:last-child::after {align-self: flex-start;width: 50%;}#sk-container-id-2 div.sk-parallel-item:only-child::after {width: 0;}#sk-container-id-2 div.sk-dashed-wrapped {border: 1px dashed gray;margin: 0 0.4em 0.5em 0.4em;box-sizing: border-box;padding-bottom: 0.4em;background-color: white;}#sk-container-id-2 div.sk-label label {font-family: monospace;font-weight: bold;display: inline-block;line-height: 1.2em;}#sk-container-id-2 div.sk-label-container {text-align: center;}#sk-container-id-2 div.sk-container {/* jupyter's `normalize.less` sets `[hidden] { display: none; }` but bootstrap.min.css set `[hidden] { display: none !important; }` so we also need the `!important` here to be able to override the default hidden behavior on the sphinx rendered scikit-learn.org. See: https://github.com/scikit-learn/scikit-learn/issues/21755 */display: inline-block !important;position: relative;}#sk-container-id-2 div.sk-text-repr-fallback {display: none;}</style><div id=\"sk-container-id-2\" class=\"sk-top-container\"><div class=\"sk-text-repr-fallback\"><pre>DecisionTreeClassifier()</pre><b>In a Jupyter environment, please rerun this cell to show the HTML representation or trust the notebook. <br />On GitHub, the HTML representation is unable to render, please try loading this page with nbviewer.org.</b></div><div class=\"sk-container\" hidden><div class=\"sk-item\"><div class=\"sk-estimator sk-toggleable\"><input class=\"sk-toggleable__control sk-hidden--visually\" id=\"sk-estimator-id-2\" type=\"checkbox\" checked><label for=\"sk-estimator-id-2\" class=\"sk-toggleable__label sk-toggleable__label-arrow\">DecisionTreeClassifier</label><div class=\"sk-toggleable__content\"><pre>DecisionTreeClassifier()</pre></div></div></div></div></div>"
      ],
      "text/plain": [
       "DecisionTreeClassifier()"
      ]
     },
     "execution_count": 19,
     "metadata": {},
     "output_type": "execute_result"
    }
   ],
   "source": [
    "# model DecisionTree\n",
    "model = DecisionTreeClassifier()\n",
    "model.fit(X_train,y_train)"
   ]
  },
  {
   "cell_type": "markdown",
   "id": "5684f9c7",
   "metadata": {
    "papermill": {
     "duration": 0.01469,
     "end_time": "2024-09-07T22:12:16.935142",
     "exception": false,
     "start_time": "2024-09-07T22:12:16.920452",
     "status": "completed"
    },
    "tags": []
   },
   "source": [
    "## 15.Predict the model"
   ]
  },
  {
   "cell_type": "code",
   "execution_count": 20,
   "id": "d4576e84",
   "metadata": {
    "execution": {
     "iopub.execute_input": "2024-09-07T22:12:16.967782Z",
     "iopub.status.busy": "2024-09-07T22:12:16.967338Z",
     "iopub.status.idle": "2024-09-07T22:12:16.977727Z",
     "shell.execute_reply": "2024-09-07T22:12:16.976377Z"
    },
    "papermill": {
     "duration": 0.03007,
     "end_time": "2024-09-07T22:12:16.980147",
     "exception": false,
     "start_time": "2024-09-07T22:12:16.950077",
     "status": "completed"
    },
    "tags": []
   },
   "outputs": [
    {
     "data": {
      "text/plain": [
       "array([3, 0, 0, 4, 4, 2, 0, 4, 3, 4, 0, 3, 3, 1, 2, 4, 4, 1, 1, 3, 4, 4,\n",
       "       4, 4, 4, 0, 2, 4, 4, 3, 3, 4, 4, 1, 4, 3, 4, 4, 3, 4])"
      ]
     },
     "execution_count": 20,
     "metadata": {},
     "output_type": "execute_result"
    }
   ],
   "source": [
    "# predict and accuracy\n",
    "y_pred = model.predict(X_test)\n",
    "y_pred"
   ]
  },
  {
   "cell_type": "markdown",
   "id": "e1c28e9e",
   "metadata": {
    "papermill": {
     "duration": 0.014786,
     "end_time": "2024-09-07T22:12:17.010761",
     "exception": false,
     "start_time": "2024-09-07T22:12:16.995975",
     "status": "completed"
    },
    "tags": []
   },
   "source": [
    "## 16.Check accuracy model"
   ]
  },
  {
   "cell_type": "code",
   "execution_count": 21,
   "id": "838279e0",
   "metadata": {
    "execution": {
     "iopub.execute_input": "2024-09-07T22:12:17.042739Z",
     "iopub.status.busy": "2024-09-07T22:12:17.042277Z",
     "iopub.status.idle": "2024-09-07T22:12:17.051728Z",
     "shell.execute_reply": "2024-09-07T22:12:17.050472Z"
    },
    "papermill": {
     "duration": 0.028919,
     "end_time": "2024-09-07T22:12:17.054642",
     "exception": false,
     "start_time": "2024-09-07T22:12:17.025723",
     "status": "completed"
    },
    "tags": []
   },
   "outputs": [
    {
     "data": {
      "text/plain": [
       "1.0"
      ]
     },
     "execution_count": 21,
     "metadata": {},
     "output_type": "execute_result"
    }
   ],
   "source": [
    "accuracy_score(y_test,y_pred)"
   ]
  },
  {
   "cell_type": "markdown",
   "id": "8774914a",
   "metadata": {
    "papermill": {
     "duration": 0.015799,
     "end_time": "2024-09-07T22:12:17.086036",
     "exception": false,
     "start_time": "2024-09-07T22:12:17.070237",
     "status": "completed"
    },
    "tags": []
   },
   "source": [
    "## 17.Visualize the model"
   ]
  },
  {
   "cell_type": "code",
   "execution_count": 22,
   "id": "947bb068",
   "metadata": {
    "execution": {
     "iopub.execute_input": "2024-09-07T22:12:17.119274Z",
     "iopub.status.busy": "2024-09-07T22:12:17.118811Z",
     "iopub.status.idle": "2024-09-07T22:12:17.862818Z",
     "shell.execute_reply": "2024-09-07T22:12:17.861314Z"
    },
    "papermill": {
     "duration": 0.767259,
     "end_time": "2024-09-07T22:12:17.869575",
     "exception": false,
     "start_time": "2024-09-07T22:12:17.102316",
     "status": "completed"
    },
    "tags": []
   },
   "outputs": [
    {
     "data": {
      "image/png": "[encoded data removed]",
      "text/plain": [
       "<Figure size 2000x1000 with 1 Axes>"
      ]
     },
     "metadata": {},
     "output_type": "display_data"
    }
   ],
   "source": [
    "plt.figure(figsize=(20, 10))\n",
    "tree.plot_tree(model)\n",
    "plt.show()"
   ]
  }
 ],
 "metadata": {
  "kaggle": {
   "accelerator": "none",
   "dataSources": [
    {
     "datasetId": 830916,
     "sourceId": 1419436,
     "sourceType": "datasetVersion"
    }
   ],
   "dockerImageVersionId": 30761,
   "isGpuEnabled": false,
   "isInternetEnabled": true,
   "language": "python",
   "sourceType": "notebook"
  },
  "kernelspec": {
   "display_name": "Python 3",
   "language": "python",
   "name": "python3"
  },
  "language_info": {
   "codemirror_mode": {
    "name": "ipython",
    "version": 3
   },
   "file_extension": ".py",
   "mimetype": "text/x-python",
   "name": "python",
   "nbconvert_exporter": "python",
   "pygments_lexer": "ipython3",
   "version": "3.10.14"
  },
  "papermill": {
   "default_parameters": {},
   "duration": 9.201579,
   "end_time": "2024-09-07T22:12:18.626744",
   "environment_variables": {},
   "exception": null,
   "input_path": "__notebook__.ipynb",
   "output_path": "__notebook__.ipynb",
   "parameters": {},
   "start_time": "2024-09-07T22:12:09.425165",
   "version": "2.6.0"
  }
 },
 "nbformat": 4,
 "nbformat_minor": 5
}
